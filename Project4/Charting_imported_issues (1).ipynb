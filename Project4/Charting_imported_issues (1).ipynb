{
 "cells": [
  {
   "cell_type": "markdown",
   "metadata": {},
   "source": [
    "# Plot the Graph for the total number of issues with different labels created and closed on every date on GitHub for SPM587SP23 issues project"
   ]
  },
  {
   "cell_type": "markdown",
   "metadata": {},
   "source": [
    "### Example of Issue Form Filled out"
   ]
  },
  {
   "cell_type": "raw",
   "metadata": {},
   "source": [
    "Author: SPM587SP23\n",
    "created_at: 2023-03-23,\n",
    "labels:  Category:Enhancement, OriginationPhase:Requirements, Priority:Critical\n",
    "State: open,\n",
    "issue_number: 6,\n",
    "closed_at: 2023-03-23"
   ]
  },
  {
   "cell_type": "markdown",
   "metadata": {},
   "source": [
    "### Data Set File:  SPM587FA22issues.json"
   ]
  },
  {
   "cell_type": "code",
   "execution_count": 15,
   "metadata": {},
   "outputs": [],
   "source": [
    "import os\n",
    "\n",
    "import warnings\n",
    "warnings.filterwarnings('ignore')\n",
    "\n",
    "import pandas as pd                                    # panda's nickname is pd\n",
    "\n",
    "import numpy as np                                     # numpy as np\n",
    "\n",
    "from pandas import DataFrame, Series                   # for convenience\n",
    "\n",
    "import matplotlib.pyplot as plt\n",
    "\n",
    "%matplotlib inline\n",
    "\n"
   ]
  },
  {
   "cell_type": "markdown",
   "metadata": {},
   "source": [
    "# Requirement : Get the total number of issues with different labels for every date and plot them in a stacked chart"
   ]
  },
  {
   "cell_type": "code",
   "execution_count": 16,
   "metadata": {},
   "outputs": [],
   "source": [
    "# Read the JSON file into a list of dictionaries\n",
    "\n",
    "import json\n",
    "list_of_issues_dict_data = [json.loads(line) for line in open('SPM587SP23issues.json')]"
   ]
  },
  {
   "cell_type": "code",
   "execution_count": 17,
   "metadata": {},
   "outputs": [],
   "source": [
    "# Create the DataFrame object for the list_of_issues_dict_data object\n",
    "\n",
    "issues_df = DataFrame(list_of_issues_dict_data)"
   ]
  },
  {
   "cell_type": "code",
   "execution_count": 18,
   "metadata": {},
   "outputs": [
    {
     "data": {
      "text/html": [
       "<div>\n",
       "<style scoped>\n",
       "    .dataframe tbody tr th:only-of-type {\n",
       "        vertical-align: middle;\n",
       "    }\n",
       "\n",
       "    .dataframe tbody tr th {\n",
       "        vertical-align: top;\n",
       "    }\n",
       "\n",
       "    .dataframe thead th {\n",
       "        text-align: right;\n",
       "    }\n",
       "</style>\n",
       "<table border=\"1\" class=\"dataframe\">\n",
       "  <thead>\n",
       "    <tr style=\"text-align: right;\">\n",
       "      <th></th>\n",
       "      <th>issue_number</th>\n",
       "      <th>created_at</th>\n",
       "      <th>closed_at</th>\n",
       "      <th>labels</th>\n",
       "      <th>State</th>\n",
       "      <th>Author</th>\n",
       "    </tr>\n",
       "  </thead>\n",
       "  <tbody>\n",
       "    <tr>\n",
       "      <th>0</th>\n",
       "      <td>6</td>\n",
       "      <td>2023-03-23</td>\n",
       "      <td>None</td>\n",
       "      <td>[Category: Enhancement, OriginationPhase: Requ...</td>\n",
       "      <td>open</td>\n",
       "      <td>SPM587SP23</td>\n",
       "    </tr>\n",
       "    <tr>\n",
       "      <th>1</th>\n",
       "      <td>5</td>\n",
       "      <td>2023-03-23</td>\n",
       "      <td>None</td>\n",
       "      <td>[DetectionPhase: Design, OriginationPhase: Des...</td>\n",
       "      <td>open</td>\n",
       "      <td>SPM587SP23</td>\n",
       "    </tr>\n",
       "    <tr>\n",
       "      <th>2</th>\n",
       "      <td>4</td>\n",
       "      <td>2023-03-23</td>\n",
       "      <td>None</td>\n",
       "      <td>[DetectionPhase: Field, DetectionPhase: Testin...</td>\n",
       "      <td>open</td>\n",
       "      <td>SPM587SP23</td>\n",
       "    </tr>\n",
       "    <tr>\n",
       "      <th>3</th>\n",
       "      <td>3</td>\n",
       "      <td>2023-03-05</td>\n",
       "      <td>None</td>\n",
       "      <td>[documentation, help wanted]</td>\n",
       "      <td>open</td>\n",
       "      <td>SPM587SP23</td>\n",
       "    </tr>\n",
       "    <tr>\n",
       "      <th>4</th>\n",
       "      <td>1</td>\n",
       "      <td>2023-03-03</td>\n",
       "      <td>2023-03-23</td>\n",
       "      <td>[Category: Bug, DetectionPhase: Coding]</td>\n",
       "      <td>closed</td>\n",
       "      <td>SPM587SP23</td>\n",
       "    </tr>\n",
       "  </tbody>\n",
       "</table>\n",
       "</div>"
      ],
      "text/plain": [
       "   issue_number  created_at   closed_at  \\\n",
       "0             6  2023-03-23        None   \n",
       "1             5  2023-03-23        None   \n",
       "2             4  2023-03-23        None   \n",
       "3             3  2023-03-05        None   \n",
       "4             1  2023-03-03  2023-03-23   \n",
       "\n",
       "                                              labels   State      Author  \n",
       "0  [Category: Enhancement, OriginationPhase: Requ...    open  SPM587SP23  \n",
       "1  [DetectionPhase: Design, OriginationPhase: Des...    open  SPM587SP23  \n",
       "2  [DetectionPhase: Field, DetectionPhase: Testin...    open  SPM587SP23  \n",
       "3                       [documentation, help wanted]    open  SPM587SP23  \n",
       "4            [Category: Bug, DetectionPhase: Coding]  closed  SPM587SP23  "
      ]
     },
     "execution_count": 18,
     "metadata": {},
     "output_type": "execute_result"
    }
   ],
   "source": [
    "# Sanity test: print rows in our DataFrame\n",
    "\n",
    "issues_df\n",
    "    "
   ]
  },
  {
   "cell_type": "code",
   "execution_count": 19,
   "metadata": {},
   "outputs": [],
   "source": [
    "# Prepare and Clean the dataframe object\n",
    "\n",
    "wrangled_issues_df = issues_df[['Author','State','closed_at','created_at','issue_number','labels']]\n",
    "wrangled_issues_df.loc[0:len(wrangled_issues_df), 'OriginationPhase']= np.NaN\n",
    "wrangled_issues_df.loc[0:len(wrangled_issues_df),'DetectionPhase']= np.NaN\n",
    "wrangled_issues_df.loc[0:len(wrangled_issues_df),'Category']= np.NaN\n",
    "wrangled_issues_df.loc[0:len(wrangled_issues_df),'Priority']= np.NaN\n",
    "wrangled_issues_df.loc[0:len(wrangled_issues_df),'Status']= np.NaN\n"
   ]
  },
  {
   "cell_type": "code",
   "execution_count": 20,
   "metadata": {
    "scrolled": true
   },
   "outputs": [
    {
     "data": {
      "text/html": [
       "<div>\n",
       "<style scoped>\n",
       "    .dataframe tbody tr th:only-of-type {\n",
       "        vertical-align: middle;\n",
       "    }\n",
       "\n",
       "    .dataframe tbody tr th {\n",
       "        vertical-align: top;\n",
       "    }\n",
       "\n",
       "    .dataframe thead th {\n",
       "        text-align: right;\n",
       "    }\n",
       "</style>\n",
       "<table border=\"1\" class=\"dataframe\">\n",
       "  <thead>\n",
       "    <tr style=\"text-align: right;\">\n",
       "      <th></th>\n",
       "      <th>Author</th>\n",
       "      <th>State</th>\n",
       "      <th>closed_at</th>\n",
       "      <th>created_at</th>\n",
       "      <th>issue_number</th>\n",
       "      <th>labels</th>\n",
       "      <th>OriginationPhase</th>\n",
       "      <th>DetectionPhase</th>\n",
       "      <th>Category</th>\n",
       "      <th>Priority</th>\n",
       "      <th>Status</th>\n",
       "    </tr>\n",
       "  </thead>\n",
       "  <tbody>\n",
       "    <tr>\n",
       "      <th>0</th>\n",
       "      <td>SPM587SP23</td>\n",
       "      <td>open</td>\n",
       "      <td>None</td>\n",
       "      <td>2023-03-23</td>\n",
       "      <td>6</td>\n",
       "      <td>[Category: Enhancement, OriginationPhase: Requ...</td>\n",
       "      <td>NaN</td>\n",
       "      <td>NaN</td>\n",
       "      <td>NaN</td>\n",
       "      <td>NaN</td>\n",
       "      <td>NaN</td>\n",
       "    </tr>\n",
       "    <tr>\n",
       "      <th>1</th>\n",
       "      <td>SPM587SP23</td>\n",
       "      <td>open</td>\n",
       "      <td>None</td>\n",
       "      <td>2023-03-23</td>\n",
       "      <td>5</td>\n",
       "      <td>[DetectionPhase: Design, OriginationPhase: Des...</td>\n",
       "      <td>NaN</td>\n",
       "      <td>NaN</td>\n",
       "      <td>NaN</td>\n",
       "      <td>NaN</td>\n",
       "      <td>NaN</td>\n",
       "    </tr>\n",
       "    <tr>\n",
       "      <th>2</th>\n",
       "      <td>SPM587SP23</td>\n",
       "      <td>open</td>\n",
       "      <td>None</td>\n",
       "      <td>2023-03-23</td>\n",
       "      <td>4</td>\n",
       "      <td>[DetectionPhase: Field, DetectionPhase: Testin...</td>\n",
       "      <td>NaN</td>\n",
       "      <td>NaN</td>\n",
       "      <td>NaN</td>\n",
       "      <td>NaN</td>\n",
       "      <td>NaN</td>\n",
       "    </tr>\n",
       "    <tr>\n",
       "      <th>3</th>\n",
       "      <td>SPM587SP23</td>\n",
       "      <td>open</td>\n",
       "      <td>None</td>\n",
       "      <td>2023-03-05</td>\n",
       "      <td>3</td>\n",
       "      <td>[documentation, help wanted]</td>\n",
       "      <td>NaN</td>\n",
       "      <td>NaN</td>\n",
       "      <td>NaN</td>\n",
       "      <td>NaN</td>\n",
       "      <td>NaN</td>\n",
       "    </tr>\n",
       "    <tr>\n",
       "      <th>4</th>\n",
       "      <td>SPM587SP23</td>\n",
       "      <td>closed</td>\n",
       "      <td>2023-03-23</td>\n",
       "      <td>2023-03-03</td>\n",
       "      <td>1</td>\n",
       "      <td>[Category: Bug, DetectionPhase: Coding]</td>\n",
       "      <td>NaN</td>\n",
       "      <td>NaN</td>\n",
       "      <td>NaN</td>\n",
       "      <td>NaN</td>\n",
       "      <td>NaN</td>\n",
       "    </tr>\n",
       "  </tbody>\n",
       "</table>\n",
       "</div>"
      ],
      "text/plain": [
       "       Author   State   closed_at  created_at  issue_number  \\\n",
       "0  SPM587SP23    open        None  2023-03-23             6   \n",
       "1  SPM587SP23    open        None  2023-03-23             5   \n",
       "2  SPM587SP23    open        None  2023-03-23             4   \n",
       "3  SPM587SP23    open        None  2023-03-05             3   \n",
       "4  SPM587SP23  closed  2023-03-23  2023-03-03             1   \n",
       "\n",
       "                                              labels  OriginationPhase  \\\n",
       "0  [Category: Enhancement, OriginationPhase: Requ...               NaN   \n",
       "1  [DetectionPhase: Design, OriginationPhase: Des...               NaN   \n",
       "2  [DetectionPhase: Field, DetectionPhase: Testin...               NaN   \n",
       "3                       [documentation, help wanted]               NaN   \n",
       "4            [Category: Bug, DetectionPhase: Coding]               NaN   \n",
       "\n",
       "   DetectionPhase  Category  Priority  Status  \n",
       "0             NaN       NaN       NaN     NaN  \n",
       "1             NaN       NaN       NaN     NaN  \n",
       "2             NaN       NaN       NaN     NaN  \n",
       "3             NaN       NaN       NaN     NaN  \n",
       "4             NaN       NaN       NaN     NaN  "
      ]
     },
     "execution_count": 20,
     "metadata": {},
     "output_type": "execute_result"
    }
   ],
   "source": [
    "wrangled_issues_df"
   ]
  },
  {
   "cell_type": "code",
   "execution_count": 21,
   "metadata": {},
   "outputs": [],
   "source": [
    "for i in range(0, len(wrangled_issues_df)):\n",
    "    if wrangled_issues_df.iloc[i]['labels']:\n",
    "        for label in wrangled_issues_df.iloc[i]['labels']:\n",
    "            if len(label.split(':')) == 2:\n",
    "                label_name= (label.split(':'))[0]\n",
    "                label_value= (label.split(':'))[1]\n",
    "                wrangled_issues_df.loc[i, label_name]=label_value\n",
    " "
   ]
  },
  {
   "cell_type": "code",
   "execution_count": 22,
   "metadata": {
    "scrolled": true
   },
   "outputs": [
    {
     "data": {
      "text/html": [
       "<div>\n",
       "<style scoped>\n",
       "    .dataframe tbody tr th:only-of-type {\n",
       "        vertical-align: middle;\n",
       "    }\n",
       "\n",
       "    .dataframe tbody tr th {\n",
       "        vertical-align: top;\n",
       "    }\n",
       "\n",
       "    .dataframe thead th {\n",
       "        text-align: right;\n",
       "    }\n",
       "</style>\n",
       "<table border=\"1\" class=\"dataframe\">\n",
       "  <thead>\n",
       "    <tr style=\"text-align: right;\">\n",
       "      <th></th>\n",
       "      <th>Author</th>\n",
       "      <th>State</th>\n",
       "      <th>closed_at</th>\n",
       "      <th>created_at</th>\n",
       "      <th>issue_number</th>\n",
       "      <th>labels</th>\n",
       "      <th>OriginationPhase</th>\n",
       "      <th>DetectionPhase</th>\n",
       "      <th>Category</th>\n",
       "      <th>Priority</th>\n",
       "      <th>Status</th>\n",
       "    </tr>\n",
       "  </thead>\n",
       "  <tbody>\n",
       "    <tr>\n",
       "      <th>0</th>\n",
       "      <td>SPM587SP23</td>\n",
       "      <td>open</td>\n",
       "      <td>None</td>\n",
       "      <td>2023-03-23</td>\n",
       "      <td>6</td>\n",
       "      <td>[Category: Enhancement, OriginationPhase: Requ...</td>\n",
       "      <td>Requirements</td>\n",
       "      <td>NaN</td>\n",
       "      <td>Enhancement</td>\n",
       "      <td>Critical</td>\n",
       "      <td>NaN</td>\n",
       "    </tr>\n",
       "    <tr>\n",
       "      <th>1</th>\n",
       "      <td>SPM587SP23</td>\n",
       "      <td>open</td>\n",
       "      <td>None</td>\n",
       "      <td>2023-03-23</td>\n",
       "      <td>5</td>\n",
       "      <td>[DetectionPhase: Design, OriginationPhase: Des...</td>\n",
       "      <td>Design</td>\n",
       "      <td>Design</td>\n",
       "      <td>NaN</td>\n",
       "      <td>Critical</td>\n",
       "      <td>pendingReview</td>\n",
       "    </tr>\n",
       "    <tr>\n",
       "      <th>2</th>\n",
       "      <td>SPM587SP23</td>\n",
       "      <td>open</td>\n",
       "      <td>None</td>\n",
       "      <td>2023-03-23</td>\n",
       "      <td>4</td>\n",
       "      <td>[DetectionPhase: Field, DetectionPhase: Testin...</td>\n",
       "      <td>Testing</td>\n",
       "      <td>Testing</td>\n",
       "      <td>NaN</td>\n",
       "      <td>Critical</td>\n",
       "      <td>NaN</td>\n",
       "    </tr>\n",
       "    <tr>\n",
       "      <th>3</th>\n",
       "      <td>SPM587SP23</td>\n",
       "      <td>open</td>\n",
       "      <td>None</td>\n",
       "      <td>2023-03-05</td>\n",
       "      <td>3</td>\n",
       "      <td>[documentation, help wanted]</td>\n",
       "      <td>NaN</td>\n",
       "      <td>NaN</td>\n",
       "      <td>NaN</td>\n",
       "      <td>NaN</td>\n",
       "      <td>NaN</td>\n",
       "    </tr>\n",
       "    <tr>\n",
       "      <th>4</th>\n",
       "      <td>SPM587SP23</td>\n",
       "      <td>closed</td>\n",
       "      <td>2023-03-23</td>\n",
       "      <td>2023-03-03</td>\n",
       "      <td>1</td>\n",
       "      <td>[Category: Bug, DetectionPhase: Coding]</td>\n",
       "      <td>NaN</td>\n",
       "      <td>Coding</td>\n",
       "      <td>Bug</td>\n",
       "      <td>NaN</td>\n",
       "      <td>NaN</td>\n",
       "    </tr>\n",
       "  </tbody>\n",
       "</table>\n",
       "</div>"
      ],
      "text/plain": [
       "       Author   State   closed_at  created_at  issue_number  \\\n",
       "0  SPM587SP23    open        None  2023-03-23             6   \n",
       "1  SPM587SP23    open        None  2023-03-23             5   \n",
       "2  SPM587SP23    open        None  2023-03-23             4   \n",
       "3  SPM587SP23    open        None  2023-03-05             3   \n",
       "4  SPM587SP23  closed  2023-03-23  2023-03-03             1   \n",
       "\n",
       "                                              labels OriginationPhase  \\\n",
       "0  [Category: Enhancement, OriginationPhase: Requ...     Requirements   \n",
       "1  [DetectionPhase: Design, OriginationPhase: Des...           Design   \n",
       "2  [DetectionPhase: Field, DetectionPhase: Testin...          Testing   \n",
       "3                       [documentation, help wanted]              NaN   \n",
       "4            [Category: Bug, DetectionPhase: Coding]              NaN   \n",
       "\n",
       "  DetectionPhase      Category   Priority          Status  \n",
       "0            NaN   Enhancement   Critical             NaN  \n",
       "1         Design           NaN   Critical   pendingReview  \n",
       "2        Testing           NaN   Critical             NaN  \n",
       "3            NaN           NaN        NaN             NaN  \n",
       "4         Coding           Bug        NaN             NaN  "
      ]
     },
     "execution_count": 22,
     "metadata": {},
     "output_type": "execute_result"
    }
   ],
   "source": [
    "wrangled_issues_df"
   ]
  },
  {
   "cell_type": "code",
   "execution_count": 23,
   "metadata": {},
   "outputs": [
    {
     "data": {
      "image/png": "[encoded data removed]",
      "text/plain": [
       "<Figure size 640x480 with 1 Axes>"
      ]
     },
     "metadata": {},
     "output_type": "display_data"
    }
   ],
   "source": [
    "# Plot in Bar Chart the total number of issues created every day for every Detection Phase\n",
    "\n",
    "LabelsReviewedByDate = wrangled_issues_df.groupby(['created_at','DetectionPhase']).created_at.count()\n",
    "\n",
    "dateLabelsFig = LabelsReviewedByDate.unstack().plot(kind='bar',stacked=True,  color=['red', 'yellow', 'blue', 'purple', 'green', 'pink'], grid=False)"
   ]
  },
  {
   "cell_type": "code",
   "execution_count": 24,
   "metadata": {},
   "outputs": [
    {
     "data": {
      "image/png": "[encoded data removed]",
      "text/plain": [
       "<Figure size 640x480 with 1 Axes>"
      ]
     },
     "metadata": {},
     "output_type": "display_data"
    }
   ],
   "source": [
    "# Plot in Bar Chart the total number of issues created for every Phase based on their priorites\n",
    "\n",
    "LabelsReviewedByDate = wrangled_issues_df.groupby(['Priority','DetectionPhase']).created_at.count()\n",
    "\n",
    "dateLabelsFig = LabelsReviewedByDate.unstack().plot(kind='bar',stacked=True,  color=['blue','yellow', 'purple', 'red', 'green', 'pink'], grid=False)"
   ]
  },
  {
   "cell_type": "code",
   "execution_count": 25,
   "metadata": {},
   "outputs": [
    {
     "data": {
      "image/png": "[encoded data removed]",
      "text/plain": [
       "<Figure size 640x480 with 1 Axes>"
      ]
     },
     "metadata": {},
     "output_type": "display_data"
    }
   ],
   "source": [
    "# Plot in Bar Chart the total number of issues closed every day for every Category\n",
    "\n",
    "LabelsReviewedByDate = wrangled_issues_df.groupby(['closed_at','Category']).closed_at.count()\n",
    "\n",
    "dateLabelsFig = LabelsReviewedByDate.unstack().plot(kind='bar',stacked=True,  color=['blue', 'purple', 'red', 'yellow', 'green', 'pink'], grid=False)"
   ]
  },
  {
   "cell_type": "markdown",
   "metadata": {},
   "source": [
    "#  Requirement #1: Plot in Bar Chart the total number of issues closed every day for every Origination Phase"
   ]
  },
  {
   "cell_type": "code",
   "execution_count": 26,
   "metadata": {},
   "outputs": [],
   "source": [
    "# Requirement #1: Add your code here\n",
    "\n"
   ]
  },
  {
   "cell_type": "markdown",
   "metadata": {},
   "source": [
    "#  Requirement #2: # Plot in Bar Chart the total number of issues created for every Phase based on their Status"
   ]
  },
  {
   "cell_type": "code",
   "execution_count": 27,
   "metadata": {},
   "outputs": [],
   "source": [
    "# Requirement #2: Add your code here\n",
    "\n"
   ]
  },
  {
   "cell_type": "code",
   "execution_count": null,
   "metadata": {},
   "outputs": [],
   "source": []
  },
  {
   "cell_type": "code",
   "execution_count": null,
   "metadata": {},
   "outputs": [],
   "source": []
  }
 ],
 "metadata": {
  "kernelspec": {
   "display_name": "Python 3 (ipykernel)",
   "language": "python",
   "name": "python3"
  },
  "language_info": {
   "codemirror_mode": {
    "name": "ipython",
    "version": 3
   },
   "file_extension": ".py",
   "mimetype": "text/x-python",
   "name": "python",
   "nbconvert_exporter": "python",
   "pygments_lexer": "ipython3",
   "version": "3.8.15"
  }
 },
 "nbformat": 4,
 "nbformat_minor": 1
}

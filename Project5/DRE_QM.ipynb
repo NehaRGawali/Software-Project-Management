{
 "cells": [
  {
   "attachments": {},
   "cell_type": "markdown",
   "id": "d2a8e2d6",
   "metadata": {
    "id": "ec1d0af9"
   },
   "source": [
    "<div class=\"alert alert-block alert-success\">\n",
    "\n",
    "# <center> CS587 - Assignment 5 part 1 </center>\n",
    "## <center> Tracking and Improving the Sofwtare Project Quality </center>\n",
    "## <center> Defect Removal Effectiveness </center>\n",
    "## <center> Defect Removal Effectiveness for every phase and the overall defect removal effectiveness </center>\n",
    "## <center> Neha Ramesh Gawali A20523722</center>\n",
    "\n",
    "\n",
    "    \n",
    "\n",
    "</div>"
   ]
  },
  {
   "attachments": {},
   "cell_type": "markdown",
   "id": "47c0a722",
   "metadata": {
    "id": "fe21ba46"
   },
   "source": [
    "<div class=\"alert alert-block alert-danger\">\n",
    "    \n",
    "### Deliverables: \n",
    "- Your assignment submission ZIP file (“Assignment \n",
    "_5_Part_I_YourLastName”) must have the following items in it: \n",
    "1. Your PDF document for the analysis report. \n",
    "2. Your IPYNB script with the Name DRE_QM.ipynb that has your \n",
    "source code and output \n",
    "3. Your HTML document for your IPYNB script \n",
    "4. Your 10 minutes Panopto Video Recording of Your IPYNC \n",
    "script live demo/run \n",
    " \n",
    "\n",
    "<br>\n",
    "    \n",
    "</div>"
   ]
  },
  {
   "attachments": {},
   "cell_type": "markdown",
   "id": "f511aeb8",
   "metadata": {
    "id": "d8bc0067"
   },
   "source": [
    "\n",
    "<div class=\"alert alert-info\">\n",
    "\n",
    "     \n",
    "## High Level Description:\n",
    "\n",
    "After the initial release, R1, of the software product XYZ, the project manager for project XYZ attempted to track and improve the quality of the subsequent releases of the software product by adding more engineers to \n",
    "work on the review and inspection tasks in releases R2 and R4, and extending the duration by 10% of every development task by lowering the productivity rate of the engineer per unit of time (daily/weekly) in releases \n",
    "R3 and R5. The data, in Appendix A, represent the number of defects injected, removed, and escaped for the different tasks in every release. \n",
    "\n",
    "In this assignment, you will execute 5 experiments to assess the quality of the sofwtare project using different methods utilized by the project manager to track and improve the software project quality.\n",
    "    \n",
    "The project manager, attempted to utlize the following methods to improve the quality of the software product delivered in  the different releases of the software product:\n",
    "1. Increase the duration of the task by 10%\n",
    "2. Increase the number of reviewers on the review task from 4 to 5. \n",
    "\n",
    "    \n",
    "</div>\n",
    "\n",
    "\n",
    "\n",
    "\n",
    "<hr style=\"border:5px solid orange\"> </hr>"
   ]
  },
  {
   "cell_type": "code",
   "execution_count": null,
   "id": "f61399e4",
   "metadata": {
    "id": "5c6fbf08"
   },
   "outputs": [],
   "source": [
    "import pandas as pd\n",
    "import numpy as np\n",
    "import matplotlib.pyplot as plt\n",
    "from pandas import DataFrame\n",
    "%matplotlib inline\n",
    "import warnings\n",
    "warnings.filterwarnings('ignore')"
   ]
  },
  {
   "attachments": {},
   "cell_type": "markdown",
   "id": "05c5e2ba",
   "metadata": {
    "id": "72ba30bd"
   },
   "source": [
    "\n",
    "\n",
    "<div class=\"alert alert-info\">   \n",
    "    \n",
    "### Read the Defect Removal Effectiveness data Matrix from a CSV file or JSON file\n",
    "    \n",
    "</div>"
   ]
  },
  {
   "cell_type": "code",
   "execution_count": null,
   "id": "c1398286",
   "metadata": {
    "id": "1682eee9"
   },
   "outputs": [],
   "source": [
    "matrix_defects_originationdetection_phase_R1 = pd.read_excel('Release_R1Matrix.xlsx', engine = 'openpyxl')\n",
    "matrix_defects_originationdetection_phase_R2 = pd.read_excel('Release_R2Matrix.xlsx', engine = 'openpyxl')\n",
    "matrix_defects_originationdetection_phase_R3 = pd.read_excel('Release_R3Matrix.xlsx', engine = 'openpyxl')\n",
    "matrix_defects_originationdetection_phase_R4 = pd.read_excel('Release_R4Matrix.xlsx', engine = 'openpyxl')\n",
    "matrix_defects_originationdetection_phase_R5 = pd.read_excel('Release_R5Matrix.xlsx', engine = 'openpyxl')"
   ]
  },
  {
   "attachments": {},
   "cell_type": "markdown",
   "id": "0911be5e",
   "metadata": {
    "id": "577dd4af"
   },
   "source": [
    "<div class=\"alert alert-info\">  \n",
    "    \n",
    "### Create a stacked bar chart to plot the counts of the defects detection phase (Y-axis) for the origination phases (X-axis)\n",
    "\n",
    "</div>"
   ]
  },
  {
   "cell_type": "code",
   "execution_count": null,
   "id": "da453ae0",
   "metadata": {
    "colab": {
     "base_uri": "https://localhost:8080/",
     "height": 380
    },
    "id": "56d21378",
    "outputId": "b5ad42f1-7f3b-468d-b33c-ec495c99d099"
   },
   "outputs": [],
   "source": [
    "matrix_defects_originationdetection_phase_R1.plot(x='Phases', kind='bar',title='Graph of Release R1',stacked=True,color=['purple', 'orange', 'pink', 'green', 'brown','red','yellow','blue'])"
   ]
  },
  {
   "cell_type": "code",
   "execution_count": null,
   "id": "10cc98ca",
   "metadata": {
    "colab": {
     "base_uri": "https://localhost:8080/",
     "height": 380
    },
    "id": "58876c99",
    "outputId": "a3556843-4f06-4685-938c-d9cdc8863ef8"
   },
   "outputs": [],
   "source": [
    "matrix_defects_originationdetection_phase_R2.plot(x='Phases', kind='bar',title='Graph of Release R2',stacked=True,color=['purple', 'orange', 'pink', 'green', 'brown','red','yellow','blue'])"
   ]
  },
  {
   "cell_type": "code",
   "execution_count": null,
   "id": "b175f550",
   "metadata": {
    "colab": {
     "base_uri": "https://localhost:8080/",
     "height": 380
    },
    "id": "cca74be1",
    "outputId": "0a4c09af-94a3-4f59-9aa5-f2e32a1866f9"
   },
   "outputs": [],
   "source": [
    "matrix_defects_originationdetection_phase_R3.plot(x='Phases', kind='bar',title='Graph of Release R3',stacked=True,color=['purple', 'orange', 'pink', 'green', 'brown','red','yellow','blue'])"
   ]
  },
  {
   "cell_type": "code",
   "execution_count": null,
   "id": "b9bfc674",
   "metadata": {
    "colab": {
     "base_uri": "https://localhost:8080/",
     "height": 380
    },
    "id": "0ad0068b",
    "outputId": "a03ea068-b4fe-4c13-d3a4-8e9149d341f4"
   },
   "outputs": [],
   "source": [
    "matrix_defects_originationdetection_phase_R4.plot(x='Phases', kind='bar',title='Graph of Release R4',stacked=True,color=['purple', 'orange', 'pink', 'green', 'brown','red','yellow','blue'])"
   ]
  },
  {
   "cell_type": "code",
   "execution_count": null,
   "id": "3ef61f14",
   "metadata": {
    "colab": {
     "base_uri": "https://localhost:8080/",
     "height": 380
    },
    "id": "40617d12",
    "outputId": "e2428901-af83-42ae-e94a-9e645978954b"
   },
   "outputs": [],
   "source": [
    "matrix_defects_originationdetection_phase_R5.plot(x='Phases', kind='bar',title='Graph of Release R5',stacked=True,color=['purple', 'orange', 'pink', 'green', 'brown','red','yellow','blue'])"
   ]
  },
  {
   "attachments": {},
   "cell_type": "markdown",
   "id": "0a2ff0d5",
   "metadata": {
    "id": "39fab0b8"
   },
   "source": [
    "\n",
    "\n",
    "<div class=\"alert alert-info\">   \n",
    "    \n",
    "### Create the functions to calculate the defect removal effectiveness for every phase & the overall defect removal effectiveness\n",
    "using following formulas:\n",
    "- Defect Removal Effectiveness for development task = (Defects removed in current step / (Defects existing on step entry + Defects injected in current step)) * 100%\n",
    "\n",
    "- Defect Removal Effectiveness for testing task = (Defects removed in current phase / (Defects removed in current phase + Defects removed in subsequent phases)) * 100%\n",
    "\n",
    "    \n",
    "</div>"
   ]
  },
  {
   "cell_type": "code",
   "execution_count": null,
   "id": "f9b11697",
   "metadata": {
    "colab": {
     "base_uri": "https://localhost:8080/",
     "height": 868
    },
    "id": "9f2d4d3e",
    "outputId": "6371f987-9e91-45af-e201-4c439891a5eb"
   },
   "outputs": [],
   "source": [
    "def calDefectRemovalEffectiveness(val):\n",
    "    val[\"Detected\"] = val.sum(axis=1)\n",
    "    val[\"Injected\"] = val.iloc[0:8, 1:9].sum(axis=0).tolist()\n",
    "    val[\"Escaped\"]= val[\"Injected\"] - val[\"Detected\"]\n",
    "    \n",
    "    for i in range(1, len(val)):\n",
    "        val[\"Escaped\"][i] += val[\"Escaped\"][i-1]\n",
    "    \n",
    "    val[\"DefectsOnStepEntry\"] = val[\"Escaped\"]\n",
    "    val[\"DefectsOnStepEntry\"][0] = 0\n",
    "    \n",
    "    for i in range(1, len(val)):\n",
    "        val[\"DefectsOnStepEntry\"][i] = val[\"Escaped\"][i-1]    \n",
    "    \n",
    "    val[\"DRE\"] = val[\"Escaped\"]\n",
    "    \n",
    "    for i in range(0, 4):\n",
    "        val.loc[i, \"DRE\"] = val.loc[i, \"Detected\"] / (val.loc[i, \"Injected\"] + val.loc[i, \"DefectsOnStepEntry\"]) * 100\n",
    "    \n",
    "    for i in range(4, len(val)-1):\n",
    "        detected_sum = val.loc[i+1:, \"Detected\"].sum()\n",
    "        val.loc[i, \"DRE\"] = val.loc[i, \"Detected\"] / (val.loc[i, \"Detected\"] + detected_sum) * 100\n",
    "    \n",
    "    val.loc[7, \"DRE\"] = np.nan\n",
    "    \n",
    "    return val"
   ]
  },
  {
   "cell_type": "code",
   "execution_count": null,
   "id": "ad355c26",
   "metadata": {},
   "outputs": [],
   "source": [
    "calDefectRemovalEffectiveness(matrix_defects_originationdetection_phase_R1)"
   ]
  },
  {
   "cell_type": "code",
   "execution_count": null,
   "id": "903d1f11",
   "metadata": {},
   "outputs": [],
   "source": [
    "calDefectRemovalEffectiveness(matrix_defects_originationdetection_phase_R2)"
   ]
  },
  {
   "cell_type": "code",
   "execution_count": null,
   "id": "15293982",
   "metadata": {},
   "outputs": [],
   "source": [
    "calDefectRemovalEffectiveness(matrix_defects_originationdetection_phase_R3)"
   ]
  },
  {
   "cell_type": "code",
   "execution_count": null,
   "id": "4cb6bc4c",
   "metadata": {},
   "outputs": [],
   "source": [
    "calDefectRemovalEffectiveness(matrix_defects_originationdetection_phase_R4)"
   ]
  },
  {
   "cell_type": "code",
   "execution_count": null,
   "id": "329ad339",
   "metadata": {},
   "outputs": [],
   "source": [
    "calDefectRemovalEffectiveness(matrix_defects_originationdetection_phase_R5)"
   ]
  },
  {
   "cell_type": "markdown",
   "id": "2dc48d7d",
   "metadata": {
    "id": "32dd5b57"
   },
   "source": [
    "# Overall DRE"
   ]
  },
  {
   "cell_type": "code",
   "execution_count": null,
   "id": "a14e4eb2",
   "metadata": {
    "colab": {
     "base_uri": "https://localhost:8080/"
    },
    "id": "28dce24d",
    "outputId": "c68e1a6f-6f6b-45c8-f3f1-7431a1603d1e"
   },
   "outputs": [],
   "source": [
    "Overall_DefectRemovalEffectiveness_R1 = (1 - (matrix_defects_originationdetection_phase_R1[\"Detected\"][7] / matrix_defects_originationdetection_phase_R1.iloc[0:8, 9:10].sum())) * 100\n",
    "Overall_DefectRemovalEffectiveness_R1"
   ]
  },
  {
   "cell_type": "code",
   "execution_count": null,
   "id": "e9016fdd",
   "metadata": {
    "colab": {
     "base_uri": "https://localhost:8080/"
    },
    "id": "afa02a6e",
    "outputId": "30c2afad-4348-45f6-df6c-4b760fabf91a"
   },
   "outputs": [],
   "source": [
    "Overall_DefectRemovalEffectiveness_R2 = (1 - (matrix_defects_originationdetection_phase_R2[\"Detected\"][7] / matrix_defects_originationdetection_phase_R2.iloc[0:8, 9:10].sum())) * 100\n",
    "Overall_DefectRemovalEffectiveness_R2"
   ]
  },
  {
   "cell_type": "code",
   "execution_count": null,
   "id": "897846b9",
   "metadata": {
    "colab": {
     "base_uri": "https://localhost:8080/"
    },
    "id": "3Mf2kMAiYxGs",
    "outputId": "d6b53f45-16cd-4d54-c42c-449f21ca172a"
   },
   "outputs": [],
   "source": [
    "Overall_DefectRemovalEffectiveness_R3 = (1 - (matrix_defects_originationdetection_phase_R3[\"Detected\"][7] / matrix_defects_originationdetection_phase_R3.iloc[0:8, 9:10].sum())) * 100\n",
    "Overall_DefectRemovalEffectiveness_R3"
   ]
  },
  {
   "cell_type": "code",
   "execution_count": null,
   "id": "a863b38f",
   "metadata": {
    "colab": {
     "base_uri": "https://localhost:8080/"
    },
    "id": "xZjAdaPaZb3N",
    "outputId": "018e8a02-2c68-414e-d3e4-3d66f8fbfc9f"
   },
   "outputs": [],
   "source": [
    "Overall_DefectRemovalEffectiveness_R4 = (1 - (matrix_defects_originationdetection_phase_R4[\"Detected\"][7] / matrix_defects_originationdetection_phase_R4.iloc[0:8, 9:10].sum())) * 100\n",
    "Overall_DefectRemovalEffectiveness_R4"
   ]
  },
  {
   "cell_type": "code",
   "execution_count": null,
   "id": "949e574b",
   "metadata": {
    "colab": {
     "base_uri": "https://localhost:8080/"
    },
    "id": "AscQRe2sZnWS",
    "outputId": "d27b19c4-924d-4792-ef90-f9f0ce3c9b8b"
   },
   "outputs": [],
   "source": [
    "Overall_DefectRemovalEffectiveness_R5 = (1 - (matrix_defects_originationdetection_phase_R5[\"Detected\"][7] / matrix_defects_originationdetection_phase_R5.iloc[0:8, 9:10].sum())) * 100\n",
    "Overall_DefectRemovalEffectiveness_R5"
   ]
  }
 ],
 "metadata": {
  "colab": {
   "name": "DRE_QM.ipynb",
   "provenance": []
  },
  "kernelspec": {
   "display_name": "Python 3 (ipykernel)",
   "language": "python",
   "name": "python3"
  },
  "language_info": {
   "codemirror_mode": {
    "name": "ipython",
    "version": 3
   },
   "file_extension": ".py",
   "mimetype": "text/x-python",
   "name": "python",
   "nbconvert_exporter": "python",
   "pygments_lexer": "ipython3",
   "version": "3.10.11"
  }
 },
 "nbformat": 4,
 "nbformat_minor": 5
}
